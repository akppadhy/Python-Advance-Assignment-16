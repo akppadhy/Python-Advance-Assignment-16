{
 "cells": [
  {
   "cell_type": "code",
   "execution_count": null,
   "id": "35d3bf54-aa35-4da9-80b8-c0c8c68734c2",
   "metadata": {},
   "outputs": [],
   "source": [
    "#1. What is the benefit of regular expressions?\n",
    "\n",
    "Ans. Regular Expressions, also known as regex or regexp, are used to match strings of text such as particular characters, words, or patterns of characters. It means that we can match and extract any string pattern from the text with the help of regular expressions. \n",
    "it helps the programmers to Write less and cleaner code. it also avoids multiple use of if/else statements."
   ]
  },
  {
   "cell_type": "code",
   "execution_count": null,
   "id": "35f6e63c-6b7e-4434-befa-0ecdc6964f3c",
   "metadata": {},
   "outputs": [],
   "source": [
    "#2. Describe the difference between the effects of \"(ab)c+\" and \"a(bc)+\" Which of these, if any, is the unqualified pattern \"abc+\"?\n",
    "\n",
    "Ans. Both (ab)c+ and a(bc)+ are valid patterns. the difference between both these patterns is in (ab)c+ ab is group whereas in a(bc)+ bc is \n",
    "a group."
   ]
  },
  {
   "cell_type": "code",
   "execution_count": null,
   "id": "327fc030-e12e-47a3-94c7-8a4aea0bee44",
   "metadata": {},
   "outputs": [],
   "source": [
    "#3. How much do you need to use the following sentence while using regular expressions?\n",
    "#import re\n",
    "\n",
    "Ans. import re statement always has to be imported before using regular expressions."
   ]
  },
  {
   "cell_type": "code",
   "execution_count": null,
   "id": "a044df24-83e9-47e9-bbfa-bbab678bf60b",
   "metadata": {},
   "outputs": [],
   "source": [
    "#4. Which characters have special significance in square brackets when expressing a range, and under what circumstances?\n",
    "\n",
    "Ans. The Characters .,*,?,^,or,(), have a special signiface when used with square brackets. \n",
    "They need not be be explicitly escaped by \\ as in case of pattern texts in a raw string."
   ]
  },
  {
   "cell_type": "code",
   "execution_count": null,
   "id": "e3f92d9f-7b2c-49ec-b531-ae0e610ea604",
   "metadata": {},
   "outputs": [],
   "source": [
    "#5. How does compiling a regular-expression object benefit you?\n",
    "\n",
    "Ans. We can Combine a regular expression pattern into pattern Objects.\n",
    "Which can be used for pattern matching. it also helps to search a pattern again without rewritting it."
   ]
  },
  {
   "cell_type": "code",
   "execution_count": null,
   "id": "e266ffe9-65ae-4afd-9a9b-c1310cc42a42",
   "metadata": {},
   "outputs": [],
   "source": [
    "#6. What are some examples of how to use the match object returned by re.match and re.search?\n",
    "\n",
    "Ans. The re.search() and re.match() both are functions of re module in python. These functions are very efficient and fast for searching \n",
    "in strings. The function searches for some substring in a string and returns a match object if found, else it returns none.\n",
    "There is a difference between the use of both functions. Both return the first match of a substring found in the string, but re.match() searches\n",
    "only from the beginning of the string and return match object if found. But if a match of substring is found somewhere in the middle of the string, it returns none.\n",
    "While re.search() searches for the whole string even if the string contains multi-lines and tries to find a match of the substring in all the \n",
    "lines of string."
   ]
  },
  {
   "cell_type": "code",
   "execution_count": null,
   "id": "ec8d649b-ad09-413f-8009-946fbc4a197b",
   "metadata": {},
   "outputs": [],
   "source": [
    "#7. What is the difference between using a vertical bar (|) as an alteration and using square brackets as a character set?\n",
    "\n",
    "Ans. When | us used then patterns searches for or option. i.e <pattern_1>|<pattern_2> means it searches as <pattern_1>or<<pattern_2> in the searched string. \n",
    "The first occurance of matched string will be returned as the Match Object.\n",
    "Using Character set in square Brackets searches for all the character set in the square bracket and if match is found, it returns it."
   ]
  },
  {
   "cell_type": "code",
   "execution_count": null,
   "id": "93d72f6c-eaba-4a8b-923e-030965b03b66",
   "metadata": {},
   "outputs": [],
   "source": [
    "#8. In regular-expression search patterns, why is it necessary to use the raw-string indicator (r)? In replacement strings?\n",
    "\n",
    "Ans. Raw Strings are used in the regular-expression search patterns, so that blackslashes donot have to be escaped."
   ]
  }
 ],
 "metadata": {
  "kernelspec": {
   "display_name": "Python 3 (ipykernel)",
   "language": "python",
   "name": "python3"
  },
  "language_info": {
   "codemirror_mode": {
    "name": "ipython",
    "version": 3
   },
   "file_extension": ".py",
   "mimetype": "text/x-python",
   "name": "python",
   "nbconvert_exporter": "python",
   "pygments_lexer": "ipython3",
   "version": "3.10.6"
  }
 },
 "nbformat": 4,
 "nbformat_minor": 5
}
